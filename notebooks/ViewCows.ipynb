{
 "cells": [
  {
   "cell_type": "code",
   "execution_count": 17,
   "metadata": {},
   "outputs": [],
   "source": [
    "import os\n",
    "import matplotlib.pyplot as plt\n",
    "from PIL import Image\n",
    "from matplotlib.patches import Rectangle\n",
    "from IPython.display import display\n",
    "import ipywidgets as widgets\n",
    "from IPython.display import clear_output\n",
    "from dotenv import load_dotenv\n",
    "from pathlib import Path\n",
    "import shutil\n",
    "import cv2"
   ]
  },
  {
   "cell_type": "code",
   "execution_count": 9,
   "metadata": {},
   "outputs": [],
   "source": [
    "load_dotenv();\n",
    "PWD = Path(os.getenv('COW_DETECT_PWD'))\n",
    "cwsNoOut = os.listdir(PWD.joinpath('../VacasLauNoOutliers'))"
   ]
  },
  {
   "cell_type": "code",
   "execution_count": 12,
   "metadata": {},
   "outputs": [
    {
     "data": {
      "text/plain": [
       "8087"
      ]
     },
     "execution_count": 12,
     "metadata": {},
     "output_type": "execute_result"
    }
   ],
   "source": [
    "len(cwsNoOut)"
   ]
  },
  {
   "cell_type": "code",
   "execution_count": 19,
   "metadata": {},
   "outputs": [
    {
     "data": {
      "text/plain": [
       "WindowsPath('D:/Dev/Datasets/YoloCows')"
      ]
     },
     "execution_count": 19,
     "metadata": {},
     "output_type": "execute_result"
    }
   ],
   "source": [
    "PWD"
   ]
  },
  {
   "cell_type": "code",
   "execution_count": 20,
   "metadata": {},
   "outputs": [],
   "source": [
    "os.mkdir(PWD.joinpath('../NoOutliers'))"
   ]
  },
  {
   "cell_type": "code",
   "execution_count": 25,
   "metadata": {},
   "outputs": [],
   "source": [
    "smallImgs = os.listdir(PWD.joinpath('imgs/images'))"
   ]
  },
  {
   "cell_type": "code",
   "execution_count": 31,
   "metadata": {},
   "outputs": [],
   "source": [
    "outliers = [cow for cow in smallImgs if cow not in cwsNoOut]"
   ]
  },
  {
   "cell_type": "code",
   "execution_count": 37,
   "metadata": {},
   "outputs": [
    {
     "data": {
      "text/plain": [
       "8115"
      ]
     },
     "execution_count": 37,
     "metadata": {},
     "output_type": "execute_result"
    }
   ],
   "source": [
    "os.listdir(PWD.joinpath('../NoOutliers/images'))"
   ]
  },
  {
   "cell_type": "code",
   "execution_count": 41,
   "metadata": {},
   "outputs": [],
   "source": [
    "for cow in outliers:\n",
    "    os.remove(PWD.joinpath('../NoOutliers/images', cow))"
   ]
  },
  {
   "cell_type": "code",
   "execution_count": 45,
   "metadata": {},
   "outputs": [],
   "source": [
    "for cow in outliers:\n",
    "    os.remove(PWD.joinpath('../NoOutliers/labels', cow[:-3]+'txt'))"
   ]
  },
  {
   "cell_type": "code",
   "execution_count": null,
   "metadata": {},
   "outputs": [],
   "source": [
    "load_dotenv();\n",
    "PWD = Path(os.getenv('COW_DETECT_PWD'))\n",
    "\n",
    "# FIXME\n",
    "IMG_PATH = PWD.joinpath('..//images')\n",
    "LBL_PATH = PWD.joinpath('..//labels')\n",
    "\n",
    "TMP_PATH = Path('../tmp')\n",
    "\n",
    "imgs = os.listdir(IMG_PATH)\n",
    "lbls = os.listdir(LBL_PATH)"
   ]
  },
  {
   "cell_type": "code",
   "execution_count": 4,
   "metadata": {},
   "outputs": [],
   "source": [
    "%matplotlib agg"
   ]
  },
  {
   "cell_type": "code",
   "execution_count": 7,
   "metadata": {},
   "outputs": [
    {
     "name": "stderr",
     "output_type": "stream",
     "text": [
      "C:\\Users\\Peblo\\AppData\\Local\\Temp\\ipykernel_22068\\3036970303.py:2: RuntimeWarning: More than 20 figures have been opened. Figures created through the pyplot interface (`matplotlib.pyplot.figure`) are retained until explicitly closed and may consume too much memory. (To control this warning, see the rcParam `figure.max_open_warning`).\n",
      "  fig, ax = plt.subplots()\n"
     ]
    }
   ],
   "source": [
    "for idx, image in enumerate(imgs):\n",
    "    fig, ax = plt.subplots()\n",
    "\n",
    "    fig.set_size_inches(6, 6)\n",
    "\n",
    "    ax.axis('off')\n",
    "    img = Image.open(IMG_PATH.joinpath(image))\n",
    "\n",
    "    X, Y = img.size\n",
    "\n",
    "    ax.imshow(img)\n",
    "\n",
    "    with open(LBL_PATH.joinpath(lbls[idx])) as f:\n",
    "        lines = [l.rstrip().split() for l in f]\n",
    "        rects = [list(map(float, i)) for i in lines]\n",
    "\n",
    "\n",
    "        for i, rect in enumerate(rects):\n",
    "            cl, xC, yC, w, h = rect\n",
    "            x = (xC - w / 2) * X\n",
    "            y = (yC - h / 2) * Y\n",
    "            bbox = Rectangle((x, y), width=w * X, height=h * Y, edgecolor='blue', facecolor='none', lw=2)\n",
    "            ax.add_patch(bbox)\n",
    "\n",
    "        plt.savefig(TMP_PATH.joinpath(image), bbox_inches='tight', transparent='True', pad_inches=0)"
   ]
  },
  {
   "cell_type": "code",
   "execution_count": null,
   "metadata": {},
   "outputs": [],
   "source": [
    "cmap = plt.cm.get_cmap('hsv', 20)\n",
    "out = widgets.Output()\n",
    "\n",
    "\n",
    "def showImg(imgname):\n",
    "    with out:\n",
    "        out.clear_output(wait=True)\n",
    "\n",
    "        fig, ax = plt.subplots()\n",
    "\n",
    "        fig.set_size_inches(10, 10)\n",
    "\n",
    "        img = Image.open(IMG_PATH + imgname + '.jpg')\n",
    "        X, Y = img.size\n",
    "        ax.imshow(img)\n",
    "\n",
    "        with open(LABEL_DIR + imgname + '.txt') as f:\n",
    "            lines = [l.rstrip().split() for l in f]\n",
    "            rects = [list(map(float, i)) for i in lines]\n",
    "\n",
    "\n",
    "        for i, rect in enumerate(rects):\n",
    "            cl, xC, yC, w, h = rect\n",
    "            x = (xC - w / 2) * X\n",
    "            y = (yC - h / 2) * Y\n",
    "            bbox = Rectangle((x, y), width=w * X, height=h * Y, edgecolor=cmap(i), facecolor='none', lw=2)\n",
    "            ax.add_patch(bbox)\n",
    "\n",
    "        plt.show()\n",
    "\n",
    "\n",
    "def fwd(_):\n",
    "    global idx\n",
    "    idx = (idx + 1) % len(imgNames) \n",
    "    showImg(imgNames[idx])\n",
    "\n",
    "def bwd(_):\n",
    "    global idx\n",
    "    idx = (idx - 1) % len(imgNames)\n",
    "    showImg(imgNames[idx])\n",
    "\n",
    "\n",
    "idx = 0\n",
    "\n",
    "btnf = widgets.Button(description='>')\n",
    "btnd = widgets.Button(description='<')\n",
    "\n",
    "btnf.on_click(fwd)\n",
    "btnd.on_click(bwd)\n",
    "\n",
    "buttons = widgets.HBox([btnd, btnf])\n",
    "\n",
    "display(buttons, out)\n",
    "\n",
    "showImg(imgNames[idx])\n"
   ]
  }
 ],
 "metadata": {
  "kernelspec": {
   "display_name": "Python 3 (ipykernel)",
   "language": "python",
   "name": "python3"
  }
 },
 "nbformat": 4,
 "nbformat_minor": 2
}
