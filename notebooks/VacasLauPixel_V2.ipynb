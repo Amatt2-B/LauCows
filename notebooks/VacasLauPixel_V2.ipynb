{
  "nbformat": 4,
  "nbformat_minor": 0,
  "metadata": {
    "colab": {
      "provenance": [],
      "include_colab_link": true
    },
    "kernelspec": {
      "name": "python3",
      "display_name": "Python 3"
    },
    "language_info": {
      "name": "python"
    }
  },
  "cells": [
    {
      "cell_type": "markdown",
      "metadata": {
        "id": "view-in-github",
        "colab_type": "text"
      },
      "source": [
        "<a href=\"https://colab.research.google.com/github/Amatt2-B/LauCows/blob/main/VacasLauPixel_V2.ipynb\" target=\"_parent\"><img src=\"https://colab.research.google.com/assets/colab-badge.svg\" alt=\"Open In Colab\"/></a>"
      ]
    },
    {
      "cell_type": "code",
      "source": [
        "from google.colab import drive\n",
        "drive.mount('/content/drive')\n"
      ],
      "metadata": {
        "id": "gXq9BaP_Ek7W",
        "colab": {
          "base_uri": "https://localhost:8080/"
        },
        "outputId": "af4c5521-5812-45c7-e233-dfd7c00bb33a"
      },
      "execution_count": null,
      "outputs": [
        {
          "output_type": "stream",
          "name": "stdout",
          "text": [
            "Mounted at /content/drive\n"
          ]
        }
      ]
    },
    {
      "cell_type": "code",
      "source": [
        "import cv2\n",
        "import os\n",
        "import numpy as np\n",
        "\n",
        "def calculate_brightness(folder_path):\n",
        "    total_brightness = 0\n",
        "    total_images = 0\n",
        "    max_brightness = -np.inf\n",
        "    min_brightness = np.inf\n",
        "\n",
        "    for subfolder in ['train', 'valid']:\n",
        "        image_folder = os.path.join(folder_path, subfolder, 'images')\n",
        "        if not os.path.exists(image_folder):\n",
        "            print(f\"No se encontró la carpeta {image_folder}\")\n",
        "            continue\n",
        "\n",
        "        for image_name in os.listdir(image_folder):\n",
        "            image_path = os.path.join(image_folder, image_name)\n",
        "            image = cv2.imread(image_path, cv2.IMREAD_GRAYSCALE)\n",
        "\n",
        "            if image is None:\n",
        "                print(f\"Error al cargar la imagen: {image_path}\")\n",
        "                continue\n",
        "\n",
        "            # Calcular el brillo promedio de la imagen\n",
        "            brightness = np.mean(image)\n",
        "            total_brightness += brightness\n",
        "            total_images += 1\n",
        "\n",
        "            # Actualizar valores máximo y mínimo de brillo\n",
        "            max_brightness = max(max_brightness, brightness)\n",
        "            min_brightness = min(min_brightness, brightness)\n",
        "\n",
        "    # Calcular el brillo promedio de todas las imágenes\n",
        "    average_brightness = total_brightness / total_images if total_images > 0 else 0\n",
        "    return average_brightness, max_brightness, min_brightness\n",
        "\n",
        "# Rutas a las carpetas de día y noche\n",
        "day_folder = '/content/drive/Shareddrives/CNN_COW_CAETEC/DATASET/YoloCowsDay'\n",
        "night_folder = '/content/drive/Shareddrives/CNN_COW_CAETEC/DATASET/YoloCowsNight'\n",
        "\n",
        "# Calcular brillo para el dataset de día\n",
        "day_avg_brightness, _, day_min_brightness = calculate_brightness(day_folder)\n",
        "print(f\"Day Dataset - Average Brightness: {day_avg_brightness}\")\n",
        "print(f\"Day Dataset - Minimum Brightness: {day_min_brightness}\")\n",
        "\n",
        "# Calcular brillo para el dataset de noche\n",
        "night_avg_brightness, night_max_brightness, _ = calculate_brightness(night_folder)\n",
        "print(f\"Night Dataset - Average Brightness: {night_avg_brightness}\")\n",
        "print(f\"Night Dataset - Maximum Brightness: {night_max_brightness}\")\n"
      ],
      "metadata": {
        "colab": {
          "base_uri": "https://localhost:8080/"
        },
        "id": "gxDWnUVhkjwd",
        "outputId": "d5cbfe1b-6639-4b29-acdd-390dc1b875d7"
      },
      "execution_count": null,
      "outputs": [
        {
          "output_type": "stream",
          "name": "stdout",
          "text": [
            "Day Dataset - Average Brightness: 105.13945657474204\n",
            "Day Dataset - Minimum Brightness: 10.221569733796295\n",
            "Night Dataset - Average Brightness: 13.458366679307716\n",
            "Night Dataset - Maximum Brightness: 41.761653645833334\n"
          ]
        }
      ]
    }
  ]
}